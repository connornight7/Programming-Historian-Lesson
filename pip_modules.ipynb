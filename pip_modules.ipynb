{
 "cells": [
  {
   "cell_type": "code",
   "execution_count": null,
   "id": "14eacafe",
   "metadata": {
    "vscode": {
     "languageId": "plaintext"
    }
   },
   "outputs": [],
   "source": [
    "# We can use the import command to add new dictionaries which can do various different things\n",
    "# \n",
    "import csv\n",
    "import requests\n",
    "import kmlwriter\n",
    "import pprint"
   ]
  },
  {
   "cell_type": "code",
   "execution_count": null,
   "id": "29a9fe65",
   "metadata": {
    "vscode": {
     "languageId": "plaintext"
    }
   },
   "outputs": [],
   "source": [
    "#\n",
    "curl -O https://bootstrap.pypa.io/get-pip.py\n",
    "python get-pip.py\n",
    "sudo python get-pip.py"
   ]
  },
  {
   "cell_type": "code",
   "execution_count": null,
   "id": "9820e54e",
   "metadata": {
    "vscode": {
     "languageId": "plaintext"
    }
   },
   "outputs": [],
   "source": [
    "#\n",
    "pip install requests\n",
    "pip install beautifulsoup4\n",
    "pip install simplekml"
   ]
  },
  {
   "cell_type": "code",
   "execution_count": null,
   "id": "12481b92",
   "metadata": {
    "vscode": {
     "languageId": "plaintext"
    }
   },
   "outputs": [],
   "source": [
    "#\n",
    "sudo pip install requests"
   ]
  }
 ],
 "metadata": {
  "language_info": {
   "name": "python"
  }
 },
 "nbformat": 4,
 "nbformat_minor": 5
}
