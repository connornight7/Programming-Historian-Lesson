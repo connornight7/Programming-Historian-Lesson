{
 "cells": [
  {
   "cell_type": "code",
   "execution_count": null,
   "id": "5d49d992",
   "metadata": {},
   "outputs": [],
   "source": [
    "#https://programminghistorian.org/en/lessons/creating-and-viewing-html-files-with-python\n",
    "# write-html-2-mac.py\n",
    "import webbrowser\n",
    "\n",
    "f = open('helloworld.html','w')\n",
    "\n",
    "message = \"\"\"<html>\n",
    "<head></head>\n",
    "<body><p>Hello World!</p></body>\n",
    "</html>\"\"\"\n",
    "\n",
    "f.write(message)\n",
    "f.close()\n",
    "\n",
    "#Change path to reflect file location\n",
    "filename = 'file:///Users/username/Desktop/programming-historian/' + 'helloworld.html'\n",
    "webbrowser.open_new_tab(filename)"
   ]
  }
 ],
 "metadata": {
  "kernelspec": {
   "display_name": "Python 3",
   "language": "python",
   "name": "python3"
  },
  "language_info": {
   "name": "python",
   "version": "3.12.1"
  }
 },
 "nbformat": 4,
 "nbformat_minor": 5
}
