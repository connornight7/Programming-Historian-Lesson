{
 "cells": [
  {
   "cell_type": "code",
   "execution_count": null,
   "id": "77365983",
   "metadata": {},
   "outputs": [
    {
     "name": "stdout",
     "output_type": "stream",
     "text": [
      "Collecting en-core-web-sm==3.8.0\n",
      "  Using cached https://github.com/explosion/spacy-models/releases/download/en_core_web_sm-3.8.0/en_core_web_sm-3.8.0-py3-none-any.whl (12.8 MB)\n",
      "\u001b[38;5;2m✔ Download and installation successful\u001b[0m\n",
      "You can now load the package via spacy.load('en_core_web_sm')\n",
      "Collecting geopy\n",
      "  Downloading geopy-2.4.1-py3-none-any.whl.metadata (6.8 kB)\n",
      "Collecting folium\n",
      "  Downloading folium-0.19.5-py2.py3-none-any.whl.metadata (4.1 kB)\n",
      "Collecting geographiclib<3,>=1.52 (from geopy)\n",
      "  Downloading geographiclib-2.0-py3-none-any.whl.metadata (1.4 kB)\n",
      "Collecting branca>=0.6.0 (from folium)\n",
      "  Downloading branca-0.8.1-py3-none-any.whl.metadata (1.5 kB)\n",
      "Requirement already satisfied: jinja2>=2.9 in /home/codespace/.local/lib/python3.12/site-packages (from folium) (3.1.6)\n",
      "Requirement already satisfied: numpy in /home/codespace/.local/lib/python3.12/site-packages (from folium) (2.2.4)\n",
      "Requirement already satisfied: requests in /home/codespace/.local/lib/python3.12/site-packages (from folium) (2.32.3)\n",
      "Collecting xyzservices (from folium)\n",
      "  Downloading xyzservices-2025.1.0-py3-none-any.whl.metadata (4.3 kB)\n",
      "Requirement already satisfied: MarkupSafe>=2.0 in /home/codespace/.local/lib/python3.12/site-packages (from jinja2>=2.9->folium) (3.0.2)\n",
      "Requirement already satisfied: charset-normalizer<4,>=2 in /home/codespace/.local/lib/python3.12/site-packages (from requests->folium) (3.4.1)\n",
      "Requirement already satisfied: idna<4,>=2.5 in /home/codespace/.local/lib/python3.12/site-packages (from requests->folium) (3.10)\n",
      "Requirement already satisfied: urllib3<3,>=1.21.1 in /home/codespace/.local/lib/python3.12/site-packages (from requests->folium) (2.3.0)\n",
      "Requirement already satisfied: certifi>=2017.4.17 in /home/codespace/.local/lib/python3.12/site-packages (from requests->folium) (2025.1.31)\n",
      "Downloading geopy-2.4.1-py3-none-any.whl (125 kB)\n",
      "Downloading folium-0.19.5-py2.py3-none-any.whl (110 kB)\n",
      "Downloading branca-0.8.1-py3-none-any.whl (26 kB)\n",
      "Downloading geographiclib-2.0-py3-none-any.whl (40 kB)\n",
      "Downloading xyzservices-2025.1.0-py3-none-any.whl (88 kB)\n",
      "Installing collected packages: xyzservices, geographiclib, geopy, branca, folium\n",
      "Successfully installed branca-0.8.1 folium-0.19.5 geographiclib-2.0 geopy-2.4.1 xyzservices-2025.1.0\n"
     ]
    }
   ],
   "source": [
    "#Install spacy and geopy\n",
    "!python -m spacy download en_core_web_sm\n",
    "!pip install geopy folium\n",
    "\n",
    "\n"
   ]
  },
  {
   "cell_type": "code",
   "execution_count": 12,
   "id": "7d7eb76c",
   "metadata": {},
   "outputs": [],
   "source": [
    "#Import request that you will use to retrieve the odyssey texts. We will then take the url for the text and use request to open the text.\n",
    "\n",
    "import requests\n",
    "\n",
    "url = \"https://www.gutenberg.org/files/1727/1727-0.txt\"\n",
    "odyssey_text = requests.get(url).text\n"
   ]
  },
  {
   "cell_type": "code",
   "execution_count": null,
   "id": "65683058",
   "metadata": {},
   "outputs": [],
   "source": [
    "#\n",
    "import spacy\n",
    "\n",
    "nlp = spacy.load(\"en_core_web_sm\")\n",
    "doc = nlp(odyssey_text)\n",
    "\n",
    "locations = [ent.text for ent in doc.ents if ent.label_ == \"GPE\"]\n",
    "unique_locations = list(set(locations))\n"
   ]
  },
  {
   "cell_type": "code",
   "execution_count": null,
   "id": "87566b0f",
   "metadata": {},
   "outputs": [
    {
     "name": "stdout",
     "output_type": "stream",
     "text": [
      "Failed on a United States: HTTPSConnectionPool(host='nominatim.openstreetmap.org', port=443): Max retries exceeded with url: /search?q=a+United+States&format=json&limit=1 (Caused by ReadTimeoutError(\"HTTPSConnectionPool(host='nominatim.openstreetmap.org', port=443): Read timed out. (read timeout=1)\"))\n",
      "Failed on Hermes: HTTPSConnectionPool(host='nominatim.openstreetmap.org', port=443): Max retries exceeded with url: /search?q=Hermes&format=json&limit=1 (Caused by ReadTimeoutError(\"HTTPSConnectionPool(host='nominatim.openstreetmap.org', port=443): Read timed out. (read timeout=1)\"))\n"
     ]
    }
   ],
   "source": [
    "'''\n",
    "'''\n",
    "from geopy.geocoders import Nominatim\n",
    "from time import sleep\n",
    "\n",
    "geolocator = Nominatim(user_agent=\"odyssey_mapper\")\n",
    "location_data = []\n",
    "\n",
    "for loc in unique_locations:\n",
    "    try:\n",
    "        geo = geolocator.geocode(loc)\n",
    "        if geo:\n",
    "            location_data.append({\n",
    "                \"name\": loc,\n",
    "                \"latitude\": geo.latitude,\n",
    "                \"longitude\": geo.longitude\n",
    "            })\n",
    "            sleep(1)\n",
    "    except Exception as e:\n",
    "        print(f\"Failed on {loc}: {e}\")\n"
   ]
  },
  {
   "cell_type": "code",
   "execution_count": 15,
   "id": "b65c4337",
   "metadata": {},
   "outputs": [],
   "source": [
    "import folium\n",
    "\n",
    "map = folium.Map(location=[37.9838, 23.7275], zoom_start=5)  # center on Greece\n",
    "\n",
    "for place in location_data:\n",
    "    folium.Marker(\n",
    "        [place[\"latitude\"], place[\"longitude\"]],\n",
    "        popup=place[\"name\"]\n",
    "    ).add_to(map)\n",
    "\n",
    "map.save(\"odyssey_map.html\")\n"
   ]
  }
 ],
 "metadata": {
  "kernelspec": {
   "display_name": "Python 3",
   "language": "python",
   "name": "python3"
  },
  "language_info": {
   "codemirror_mode": {
    "name": "ipython",
    "version": 3
   },
   "file_extension": ".py",
   "mimetype": "text/x-python",
   "name": "python",
   "nbconvert_exporter": "python",
   "pygments_lexer": "ipython3",
   "version": "3.12.1"
  }
 },
 "nbformat": 4,
 "nbformat_minor": 5
}
